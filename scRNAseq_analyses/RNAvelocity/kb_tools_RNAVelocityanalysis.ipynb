{
 "cells": [
  {
   "cell_type": "markdown",
   "id": "89bf7db4",
   "metadata": {},
   "source": [
    "# RNA Velocity analysis of p036 colon"
   ]
  },
  {
   "cell_type": "code",
   "execution_count": 1,
   "id": "d007c328",
   "metadata": {},
   "outputs": [],
   "source": [
    "%%capture\n",
    "#@title Install packages\n",
    "#!pip install matplotlib\n",
    "#!pip install scikit-learn\n",
    "#!pip install numpy\n",
    "#!pip install scipy\n",
    "#!pip install anndata\n",
    "#!pip install mizani\n",
    "#!pip install plotnine\n",
    "#!pip install -U scvelo\n",
    "import numpy as np\n",
    "import matplotlib.cm as cm\n",
    "import matplotlib.pyplot as plt\n",
    "import matplotlib.colors as mplcol\n",
    "import matplotlib.font_manager\n",
    "import matplotlib as mpl\n",
    "import pandas as pd\n",
    "import io\n",
    "import anndata\n",
    "import os\n",
    "import json\n",
    "\n",
    "from scipy.stats import binom\n",
    "from scipy.stats import poisson\n",
    "from scipy.sparse import csr_matrix\n",
    "from scipy.io import mmread\n",
    "from sklearn import linear_model\n",
    "\n",
    "from IPython.display import HTML\n",
    "from mizani.breaks import date_breaks\n",
    "from mizani.formatters import date_format\n",
    "# Only pandas >= v0.25.0 supports column names with spaces in querys\n",
    "import plotnine as p\n",
    "import requests\n",
    "import warnings\n",
    "import colorsys\n",
    "warnings.filterwarnings(\"ignore\")  # plotnine has a lot of MatplotlibDeprecationWarning's\n",
    "import seaborn as sns\n",
    "sns.set_context(\"notebook\", font_scale=1.5, rc={\"lines.linewidth\": 2.5})\n",
    "\n",
    "fsize=20\n",
    "\n",
    "plt.rcParams.update({'font.size': fsize})\n",
    "%config InlineBackend.figure_format = 'retina'\n",
    "\n",
    "## following: https://github.com/basilkhuder/Seurat-to-RNA-Velocity"
   ]
  },
  {
   "cell_type": "code",
   "execution_count": null,
   "id": "11251470",
   "metadata": {},
   "outputs": [],
   "source": [
    "#%load_ext rpy2.ipython"
   ]
  },
  {
   "cell_type": "markdown",
   "id": "46732318",
   "metadata": {},
   "source": [
    "## Loading data"
   ]
  },
  {
   "cell_type": "code",
   "execution_count": 3,
   "id": "a6a3cdc4",
   "metadata": {
    "tags": [
     "parameters"
    ]
   },
   "outputs": [],
   "source": [
    "# define path as csv file to all input files\n",
    "rawdir = \"/misc/data/rawData/RNA/singleCell/5prime/\"\n",
    "samples = \"/misc/data/user/pun06483/projects/pr036_dd_10x/analysispy/RNAVelocity/metainfo/samples.txt\"\n",
    "fqsj = \"/misc/data/user/pun06483/projects/pr036_dd_10x/analysispy/RNAVelocity/metainfo/output.json\"\n",
    "outdir = \"/misc/data/user/pun06483/projects/pr036_dd_10x/analysispy/RNAVelocity\"\n",
    "outdir2 = \"/misc/data/user/pun06483/projects/pr036_dd_10x/analysispy/RNAVelocity2\"\n",
    "gtf = \"/misc/software/ngs/cellranger/refdata/refdata-gex-mm10-2020-A/genes/genes.gtf\"\n",
    "fasta = \"/misc/software/ngs/cellranger/refdata/refdata-gex-mm10-2020-A/fasta/genome.fa\""
   ]
  },
  {
   "cell_type": "code",
   "execution_count": 4,
   "id": "1de07ae6",
   "metadata": {
    "scrolled": true
   },
   "outputs": [],
   "source": [
    "#paths\n",
    "indx = os.path.join(outdir,\"transcriptome.idx\")\n",
    "t2genes = os.path.join(outdir,\"t2g.txt\")\n",
    "cdna = os.path.join(outdir,\"cdna.fa\")\n",
    "intron = os.path.join(outdir,\"intron.fa\")\n",
    "# transcript to capture\n",
    "cdnat2c = os.path.join(outdir, \"cdna_t2c.txt\")\n",
    "intron_t2c = os.path.join(outdir,\"intron_t2c.txt\")\n"
   ]
  },
  {
   "cell_type": "markdown",
   "id": "44dffde5",
   "metadata": {},
   "source": [
    "Index creation for kallisto"
   ]
  },
  {
   "cell_type": "code",
   "execution_count": null,
   "id": "97e82f0e",
   "metadata": {},
   "outputs": [],
   "source": [
    "print(indx)\n",
    "print(cdna)\n",
    "!kb ref -h"
   ]
  },
  {
   "cell_type": "code",
   "execution_count": null,
   "id": "1971bf2d",
   "metadata": {},
   "outputs": [],
   "source": [
    "# shell calls must start with \"!\" and variables are passed via \"{variable}\"\n",
    "#!kb ref -i {indx} -g {t2genes} -f1 {cdna} -f2 {intron} -c1 {cdnat2c} -c2 {intron_t2c} --workflow lamanno {fasta} {gtf} \n",
    "#$ kb count -i index.idx -g t2g.txt -x 10xv2 --h5ad -t 2 read_1.fastq.gz read_2.fastq.gz"
   ]
  },
  {
   "cell_type": "code",
   "execution_count": null,
   "id": "11faf38e",
   "metadata": {},
   "outputs": [],
   "source": [
    "print(indx)\n",
    "os.path.exists(indx)"
   ]
  },
  {
   "cell_type": "code",
   "execution_count": null,
   "id": "2e18b46e",
   "metadata": {},
   "outputs": [],
   "source": [
    "########################\n",
    "## DO NOT RUN\n",
    "#################\n",
    "\n",
    "\n",
    "#%%R -i rawdir -i samples #-w 5 -h 5 --units in -r 200\n",
    "# import df from global environment: -i df\n",
    "# make default figure size 5 by 5 inches with 200 dpi resolution\n",
    "# handle multiple input files\n",
    "# rbioc_3-14\n",
    "#library(rjson)\n",
    "\n",
    "#rawdir <- \"/misc/data/rawData/RNA/singleCell/5prime\"\n",
    "#samples <- \"/misc/data/user/pun06483/projects/pr036_dd_10x/analysispy/RNAVelocity/metainfo/samples.txt\"\n",
    "#samples <- read.delim(samples,header=F)[,1]\n",
    "\n",
    "# find all fastq.gz and select the sample respectively\n",
    "#fls <- list.files(rawdir,pattern=\"fastq.gz\",full.names=T,recursive=T)\n",
    "#fls <- fls[grep(\"_I[1,2]_\",fls,invert=T)]\n",
    "#indx<-lapply(samples,function(x) grep(x,fls))\n",
    "#flsl <- lapply(indx,function(x) fls[x])\n",
    "\n",
    "# get samples paired for R1 and R2\n",
    "#flsl <- lapply(flsl,function(x) split(x,dirname(x)))\n",
    "#names(flsl) <- samples\n",
    "#library(rjson)               \n",
    "# read list ot json\n",
    "#jsonData <- toJSON(flsl)\n",
    " \n",
    "# write json object to file\n",
    "#write(jsonData, \"/misc/data/user/pun06483/projects/pr036_dd_10x/analysispy/RNAVelocity/metainfo/output.json\")\n",
    "\n"
   ]
  },
  {
   "cell_type": "code",
   "execution_count": 5,
   "id": "b80be26b",
   "metadata": {},
   "outputs": [
    {
     "name": "stdout",
     "output_type": "stream",
     "text": [
      "['RNA_2_C_ra', 'RNA_3_C_ra', 'RNA_4_C_ra']\n"
     ]
    }
   ],
   "source": [
    "with open(fqsj,\"rb\") as fqsh:\n",
    "    fqs = json.load(fqsh)\n",
    "samples=list()\n",
    "for sample in fqs.keys():\n",
    "    samples.append(sample)\n",
    "\n",
    "print(samples)"
   ]
  },
  {
   "cell_type": "code",
   "execution_count": 6,
   "id": "eaaf7a09",
   "metadata": {},
   "outputs": [
    {
     "name": "stdout",
     "output_type": "stream",
     "text": [
      "List of supported single-cell technologies\n",
      "\n",
      "Positions syntax: `input file index, start position, end position`\n",
      "When start & end positions are None, refers to the entire file\n",
      "Custom technologies may be defined by providing a kallisto-supported technology string\n",
      "(see https://pachterlab.github.io/kallisto/manual)\n",
      "\n",
      "name         description                       whitelist    barcode                    umi        cDNA                       \n",
      "---------    ------------------------------    ---------    -----------------------    -------    -----------------------    \n",
      "10XV1        10x version 1                     yes          0,0,14                     1,0,10     2,None,None                \n",
      "10XV2        10x version 2                     yes          0,0,16                     0,16,26    1,None,None                \n",
      "10XV3        10x version 3                     yes          0,0,16                     0,16,28    1,None,None                \n",
      "BDWTA        BD Rhapsody                       yes          0,0,9 0,21,30 0,43,52      0,52,60    1,None,None                \n",
      "BULK         Bulk (single or paired)                                                              0,None,None 1,None,None    \n",
      "CELSEQ       CEL-Seq                                        0,0,8                      0,8,12     1,None,None                \n",
      "CELSEQ2      CEL-SEQ version 2                              0,6,12                     0,0,6      1,None,None                \n",
      "DROPSEQ      DropSeq                                        0,0,12                     0,12,20    1,None,None                \n",
      "INDROPSV1    inDrops version 1                              0,0,11 0,30,38             0,42,48    1,None,None                \n",
      "INDROPSV2    inDrops version 2                              1,0,11 1,30,38             1,42,48    0,None,None                \n",
      "INDROPSV3    inDrops version 3                 yes          0,0,8 1,0,8                1,8,14     2,None,None                \n",
      "SCRUBSEQ     SCRB-Seq                                       0,0,6                      0,6,16     1,None,None                \n",
      "SMARTSEQ2    Smart-seq2  (single or paired)                                                       0,None,None 1,None,None    \n",
      "SMARTSEQ3    Smart-seq3                                                                0,11,19    0,11,None 1,None,None      \n",
      "SPLIT-SEQ    SPLiT-seq                                      1,10,18 1,48,56 1,78,86    1,0,10     0,None,None                \n",
      "SURECELL     SureCell for ddSEQ                             0,0,6 0,21,27 0,42,48      0,51,59    1,None,None                \n",
      "Visium       10x Visium                        yes          0,0,16                     0,16,28    1,None,None                \n"
     ]
    }
   ],
   "source": [
    "!kb --list"
   ]
  },
  {
   "cell_type": "code",
   "execution_count": 9,
   "id": "b9c9464b",
   "metadata": {},
   "outputs": [
    {
     "name": "stdout",
     "output_type": "stream",
     "text": [
      "RNA_2_C_ra\n",
      "RNA_3_C_ra\n",
      "RNA_4_C_ra\n",
      "/misc/data/user/pun06483/projects/pr036_dd_10x/analysispy/RNAVelocity2\n"
     ]
    }
   ],
   "source": [
    "with open(fqsj,\"rb\") as fqsh:\n",
    "    fqs = json.load(fqsh)\n",
    "    \n",
    "for sample in fqs.keys():\n",
    "    print(sample)\n",
    "\n",
    "print(outdir2)"
   ]
  },
  {
   "cell_type": "code",
   "execution_count": null,
   "id": "d189eb95",
   "metadata": {
    "scrolled": true
   },
   "outputs": [
    {
     "name": "stdout",
     "output_type": "stream",
     "text": [
      "/misc/data/rawData/RNA/singleCell/5prime/BSF_0820_1/SCRNA_SEQ_082020_1_L4439/RNA_2_C_ra/RNA_2_C_ra_S3_L001_R1_001.fastq.gz /misc/data/rawData/RNA/singleCell/5prime/BSF_0820_1/SCRNA_SEQ_082020_1_L4439/RNA_2_C_ra/RNA_2_C_ra_S3_L001_R2_001.fastq.gz /misc/data/rawData/RNA/singleCell/5prime/BSF_0820_2/SCRNA_SEQ_082020_1_L4439/RNA_2_C_ra/RNA_2_C_ra_S6_L002_R1_001.fastq.gz /misc/data/rawData/RNA/singleCell/5prime/BSF_0820_2/SCRNA_SEQ_082020_1_L4439/RNA_2_C_ra/RNA_2_C_ra_S6_L002_R2_001.fastq.gz /misc/data/rawData/RNA/singleCell/5prime/BSF_0850_1/P036_SCRNA_SEQ_2_L4535/RNA_2_C_ra/RNA_2_C_ra_S2_L001_R1_001.fastq.gz /misc/data/rawData/RNA/singleCell/5prime/BSF_0850_1/P036_SCRNA_SEQ_2_L4535/RNA_2_C_ra/RNA_2_C_ra_S2_L001_R2_001.fastq.gz /misc/data/rawData/RNA/singleCell/5prime/BSF_0850_2/P036_SCRNA_SEQ_2_L4535/RNA_2_C_ra/RNA_2_C_ra_S8_L002_R1_001.fastq.gz /misc/data/rawData/RNA/singleCell/5prime/BSF_0850_2/P036_SCRNA_SEQ_2_L4535/RNA_2_C_ra/RNA_2_C_ra_S8_L002_R2_001.fastq.gz\n",
      "Processing:  RNA_2_C_ra\n"
     ]
    },
    {
     "name": "stderr",
     "output_type": "stream",
     "text": [
      "[2022-05-25 08:39:58,212]    INFO [count_lamanno] Using index /misc/data/user/pun06483/projects/pr036_dd_10x/analysispy/RNAVelocity/transcriptome.idx to generate BUS file to /misc/data/user/pun06483/projects/pr036_dd_10x/analysispy/RNAVelocity2/RNA_2_C_ra from\n",
      "[2022-05-25 08:39:58,212]    INFO [count_lamanno]         /misc/data/rawData/RNA/singleCell/5prime/BSF_0820_1/SCRNA_SEQ_082020_1_L4439/RNA_2_C_ra/RNA_2_C_ra_S3_L001_R1_001.fastq.gz\n",
      "[2022-05-25 08:39:58,213]    INFO [count_lamanno]         /misc/data/rawData/RNA/singleCell/5prime/BSF_0820_1/SCRNA_SEQ_082020_1_L4439/RNA_2_C_ra/RNA_2_C_ra_S3_L001_R2_001.fastq.gz\n",
      "[2022-05-25 08:39:58,213]    INFO [count_lamanno]         /misc/data/rawData/RNA/singleCell/5prime/BSF_0820_2/SCRNA_SEQ_082020_1_L4439/RNA_2_C_ra/RNA_2_C_ra_S6_L002_R1_001.fastq.gz\n",
      "[2022-05-25 08:39:58,213]    INFO [count_lamanno]         /misc/data/rawData/RNA/singleCell/5prime/BSF_0820_2/SCRNA_SEQ_082020_1_L4439/RNA_2_C_ra/RNA_2_C_ra_S6_L002_R2_001.fastq.gz\n",
      "[2022-05-25 08:39:58,213]    INFO [count_lamanno]         /misc/data/rawData/RNA/singleCell/5prime/BSF_0850_1/P036_SCRNA_SEQ_2_L4535/RNA_2_C_ra/RNA_2_C_ra_S2_L001_R1_001.fastq.gz\n",
      "[2022-05-25 08:39:58,213]    INFO [count_lamanno]         /misc/data/rawData/RNA/singleCell/5prime/BSF_0850_1/P036_SCRNA_SEQ_2_L4535/RNA_2_C_ra/RNA_2_C_ra_S2_L001_R2_001.fastq.gz\n",
      "[2022-05-25 08:39:58,213]    INFO [count_lamanno]         /misc/data/rawData/RNA/singleCell/5prime/BSF_0850_2/P036_SCRNA_SEQ_2_L4535/RNA_2_C_ra/RNA_2_C_ra_S8_L002_R1_001.fastq.gz\n",
      "[2022-05-25 08:39:58,213]    INFO [count_lamanno]         /misc/data/rawData/RNA/singleCell/5prime/BSF_0850_2/P036_SCRNA_SEQ_2_L4535/RNA_2_C_ra/RNA_2_C_ra_S8_L002_R2_001.fastq.gz\n",
      "[2022-05-25 09:11:08,201]    INFO [count_lamanno] Sorting BUS file /misc/data/user/pun06483/projects/pr036_dd_10x/analysispy/RNAVelocity2/RNA_2_C_ra/output.bus to /misc/data/user/pun06483/projects/pr036_dd_10x/analysispy/RNAVelocity2/RNA_2_C_ra/tmp/output.s.bus\n",
      "[2022-05-25 09:11:34,984]    INFO [count_lamanno] Whitelist not provided\n",
      "[2022-05-25 09:11:34,984]    INFO [count_lamanno] Copying pre-packaged 10XV3 whitelist to /misc/data/user/pun06483/projects/pr036_dd_10x/analysispy/RNAVelocity2/RNA_2_C_ra\n",
      "[2022-05-25 09:11:36,755]    INFO [count_lamanno] Inspecting BUS file /misc/data/user/pun06483/projects/pr036_dd_10x/analysispy/RNAVelocity2/RNA_2_C_ra/tmp/output.s.bus\n",
      "[2022-05-25 09:11:43,597]    INFO [count_lamanno] Correcting BUS records in /misc/data/user/pun06483/projects/pr036_dd_10x/analysispy/RNAVelocity2/RNA_2_C_ra/tmp/output.s.bus to /misc/data/user/pun06483/projects/pr036_dd_10x/analysispy/RNAVelocity2/RNA_2_C_ra/tmp/output.s.c.bus with whitelist /misc/data/user/pun06483/projects/pr036_dd_10x/analysispy/RNAVelocity2/RNA_2_C_ra/10x_version3_whitelist.txt\n",
      "[2022-05-25 09:11:58,357]    INFO [count_lamanno] Sorting BUS file /misc/data/user/pun06483/projects/pr036_dd_10x/analysispy/RNAVelocity2/RNA_2_C_ra/tmp/output.s.c.bus to /misc/data/user/pun06483/projects/pr036_dd_10x/analysispy/RNAVelocity2/RNA_2_C_ra/output.unfiltered.bus\n",
      "[2022-05-25 09:12:04,296]    INFO [count_lamanno] Capturing records from BUS file /misc/data/user/pun06483/projects/pr036_dd_10x/analysispy/RNAVelocity2/RNA_2_C_ra/output.unfiltered.bus to /misc/data/user/pun06483/projects/pr036_dd_10x/analysispy/RNAVelocity2/RNA_2_C_ra/tmp/spliced.bus with capture list /misc/data/user/pun06483/projects/pr036_dd_10x/analysispy/RNAVelocity/intron_t2c.txt\n",
      "[2022-05-25 09:12:32,885]    INFO [count_lamanno] Sorting BUS file /misc/data/user/pun06483/projects/pr036_dd_10x/analysispy/RNAVelocity2/RNA_2_C_ra/tmp/spliced.bus to /misc/data/user/pun06483/projects/pr036_dd_10x/analysispy/RNAVelocity2/RNA_2_C_ra/spliced.unfiltered.bus\n",
      "[2022-05-25 09:12:37,322]    INFO [count_lamanno] Inspecting BUS file /misc/data/user/pun06483/projects/pr036_dd_10x/analysispy/RNAVelocity2/RNA_2_C_ra/spliced.unfiltered.bus\n",
      "[2022-05-25 09:12:41,544]    INFO [count_lamanno] Generating count matrix /misc/data/user/pun06483/projects/pr036_dd_10x/analysispy/RNAVelocity2/RNA_2_C_ra/counts_unfiltered/spliced from BUS file /misc/data/user/pun06483/projects/pr036_dd_10x/analysispy/RNAVelocity2/RNA_2_C_ra/spliced.unfiltered.bus\n",
      "[2022-05-25 09:13:12,577]    INFO [count_lamanno] Capturing records from BUS file /misc/data/user/pun06483/projects/pr036_dd_10x/analysispy/RNAVelocity2/RNA_2_C_ra/output.unfiltered.bus to /misc/data/user/pun06483/projects/pr036_dd_10x/analysispy/RNAVelocity2/RNA_2_C_ra/tmp/unspliced.bus with capture list /misc/data/user/pun06483/projects/pr036_dd_10x/analysispy/RNAVelocity/cdna_t2c.txt\n",
      "[2022-05-25 09:13:41,465]    INFO [count_lamanno] Sorting BUS file /misc/data/user/pun06483/projects/pr036_dd_10x/analysispy/RNAVelocity2/RNA_2_C_ra/tmp/unspliced.bus to /misc/data/user/pun06483/projects/pr036_dd_10x/analysispy/RNAVelocity2/RNA_2_C_ra/unspliced.unfiltered.bus\n",
      "[2022-05-25 09:13:46,803]    INFO [count_lamanno] Inspecting BUS file /misc/data/user/pun06483/projects/pr036_dd_10x/analysispy/RNAVelocity2/RNA_2_C_ra/unspliced.unfiltered.bus\n",
      "[2022-05-25 09:13:51,226]    INFO [count_lamanno] Generating count matrix /misc/data/user/pun06483/projects/pr036_dd_10x/analysispy/RNAVelocity2/RNA_2_C_ra/counts_unfiltered/unspliced from BUS file /misc/data/user/pun06483/projects/pr036_dd_10x/analysispy/RNAVelocity2/RNA_2_C_ra/unspliced.unfiltered.bus\n",
      "[2022-05-25 09:14:22,462]    INFO [count_lamanno] Reading matrix /misc/data/user/pun06483/projects/pr036_dd_10x/analysispy/RNAVelocity2/RNA_2_C_ra/counts_unfiltered/spliced.mtx\n",
      "[2022-05-25 09:14:23,942]    INFO [count_lamanno] Reading matrix /misc/data/user/pun06483/projects/pr036_dd_10x/analysispy/RNAVelocity2/RNA_2_C_ra/counts_unfiltered/unspliced.mtx\n",
      "[2022-05-25 09:14:25,468]    INFO [count_lamanno] Combining matrices\n",
      "[2022-05-25 09:14:25,521]    INFO [count_lamanno] Writing matrices to loom /misc/data/user/pun06483/projects/pr036_dd_10x/analysispy/RNAVelocity2/RNA_2_C_ra/counts_unfiltered/adata.loom\n"
     ]
    }
   ],
   "source": [
    "\n",
    "##############################\n",
    "## DO NOT RERUN##########\n",
    "##########################\n",
    "\n",
    "\n",
    "# merge reads into one file for each sample\n",
    "#!kb count -h\n",
    "#!kb --list\n",
    "\n",
    "# kb velocity command,\n",
    "# lamanno: calculation of RNA velocity\n",
    "# loom: special file type H5a is also fine, loom needed for interaction with oterh programms\n",
    "# x: for which technology: select from kb --list\n",
    "# # zcat your.fastq.gz|head -n 4|tail -n 1|wc -c # minus 1 as line end is counted!!!\n",
    "## in our case R1 has length 28 so 10xv3\n",
    "\n",
    "import json\n",
    "\n",
    "\n",
    "from subprocess import check_call\n",
    "\n",
    "\n",
    "\n",
    "samples=list()\n",
    "for sample in fqs.keys():\n",
    "    samples.append(sample)\n",
    "    outdirSample = os.path.join(outdir2,sample)\n",
    "    outstr = \"\"\n",
    "    skeys = fqs.get(sample).keys()\n",
    "    fqsu=fqs.get(sample)\n",
    "    for sk in skeys:\n",
    "        #print(fqsu.get(sk))\n",
    "        outstr = \" \".join([outstr]+fqsu.get(sk))\n",
    "        outstr = outstr.lstrip()\n",
    "    \n",
    "    print(outstr)\n",
    "    print(\"Processing: \",sample)\n",
    "    cmd=\" \".join([\"kb\",\"count\",\n",
    "               \"-i\",indx,\n",
    "               \"-t\", \"12\",\n",
    "               \"-x\", \"10xv3\",\n",
    "               \"-o\", outdirSample,\n",
    "               \"--workflow\",\"lamanno\",\n",
    "               \"--loom\",\n",
    "               \"-g\",t2genes,\n",
    "               \"-c1\",cdnat2c,\n",
    "               \"-c2\", intron_t2c,\n",
    "               outstr])\n",
    "    check_call(cmd,shell=True)\n",
    "    \n",
    "    #           \"kb\",\"count\",\n",
    "    #           \"-i\",indx,\n",
    "    #          \"-t\", \"12\",\n",
    "    #           \"-x\", \"10xv3\",\n",
    "    #           \"-o\", outdirSample,\n",
    "    #           \"--workflow\",\"lamanno\",\n",
    "    #           \"--loom\",\n",
    "    #           \"-g\",t2genes,\n",
    "    #           \"-c1\",cdnat2c,\n",
    "    #           \"-c2\", intron_t2c,\n",
    "    #           outstr],shell=False,check=True)\n",
    "\n",
    "\n"
   ]
  },
  {
   "cell_type": "markdown",
   "id": "0c8255a8",
   "metadata": {},
   "source": [
    "## Extrackting Meta-data"
   ]
  },
  {
   "cell_type": "code",
   "execution_count": null,
   "id": "f883a708",
   "metadata": {},
   "outputs": [],
   "source": [
    "######################\n",
    "## DO NOT RERUN ###\n",
    "#######################\n",
    "\n",
    "\n",
    "# in r\n",
    "metadir=\"/misc/data/user/pun06483/projects/pr036_dd_10x/analysispy/RNAVelocity/metainfo\"\n",
    "#write.csv(Cells(Seurat_object), file = \"cellID_obs.csv\", row.names = FALSE)\n",
    "write.csv(Cells(SOcol), file = file.path(metadir,\"cellID_colon.csv\"), row.names = FALSE)\n",
    "#write.csv(Embeddings(seurat_object, reduction = \"umap\"), file = \"cell_embeddings.csv\")\n",
    "write.csv(Embeddings(SOcol, reduction = \"umap\"), file = file.path(metadir,\"cell_colon_embeddings.csv\"))\n",
    "#write.csv(seurat_object@meta.data$seurat_clusters, file = \"clusters.csv\")\n",
    "outf<-SOcol@meta.data$seurat_clusters\n",
    "\n",
    "ggplotColours <- function(n = 6, h = c(0, 360) + 15){\n",
    "  if ((diff(h) %% 360) < 1) h[2] <- h[2] - 360/n\n",
    "  hcl(h = (seq(h[1], h[2], length = n)), c = 100, l = 65)\n",
    "}\n",
    "\n",
    "color_list <- ggplotColours(n=8)\n",
    "#source: https://stackoverflow.com/questions/8197559/emulate-ggplot2-default-color-palette\n",
    "# source: https://github.com/satijalab/seurat/issues/2366\n",
    "outdf=data.frame(\"cluster\"=outf,\n",
    "                \"col\"=outf)\n",
    "levels(outdf$col)=color_list\n",
    "write.csv(outdf, file = file.path(metadir,\"colon_clusters.csv\"))\n"
   ]
  },
  {
   "cell_type": "code",
   "execution_count": null,
   "id": "bbdadd38",
   "metadata": {},
   "outputs": [],
   "source": [
    "import anndata\n",
    "import scvelo as scv\n",
    "import pandas as pd\n",
    "import numpy as np\n",
    "import matplotlib as plt\n",
    "#%load_ext rpy2.ipython\n",
    "\n",
    "print(samples)\n",
    "sample_two = anndata.read_loom(\"/misc/data/user/pun06483/projects/pr036_dd_10x/analysispy/RNAVelocity/RNA_3_C_ra/counts_unfiltered/adata.loom\")\n",
    "\n",
    "metadir=\"/misc/data/user/pun06483/projects/pr036_dd_10x/analysispy/RNAVelocity/metainfo\"\n",
    "sample_obs = pd.read_csv(os.path.join(metadir,\"cellID_colon.csv\"))\n",
    "umap_cord = pd.read_csv(os.path.join(metadir,\"cell_colon_embeddings.csv\"))\n",
    "cell_clusters = pd.read_csv(os.path.join(metadir,\"colon_clusters.csv\"))\n",
    "\n"
   ]
  },
  {
   "cell_type": "code",
   "execution_count": null,
   "id": "f2e10eca",
   "metadata": {},
   "outputs": [],
   "source": [
    "dir(sample_one)\n",
    "print(type(sample_one))\n",
    "print(type(sample_one.obs.barcode))\n",
    "print(sample_one.obs.loc[:,\"barcode\"])\n",
    "#\"\".join([\"2C_\",sample_one.obs.loc[:,\"barcode\",\"-1\"])\n",
    "#df['prod_type'] = \n",
    "B=[''.join(['2C_',item,'-1']) for item in sample_one.obs['barcode']]\n",
    "#C=deepcopy(sample_one)\n",
    "#C.obs[\"barcode\"]=B\n",
    "#print(C.obs[\"barcode\"])"
   ]
  },
  {
   "cell_type": "code",
   "execution_count": null,
   "id": "c0ccf668",
   "metadata": {},
   "outputs": [],
   "source": [
    "IDs=[x.replace('RNA_','') for x in samples]\n",
    "IDs=[\"\".join([x[0:1],\"C\"]) for x in IDs]\n",
    "sample_pddf = {'names':samples,\n",
    "               'IDs':IDs}\n",
    "sample_pddf = pd.DataFrame(sample_pddf)\n",
    "\n",
    "\n",
    "print(str(sample_pddf.loc[sample_pddf['names']=='RNA_2_C_ra',\"IDs\"]))\n",
    "print(sample_pddf)\n",
    "sample_obs"
   ]
  },
  {
   "cell_type": "code",
   "execution_count": null,
   "id": "f6383e98",
   "metadata": {},
   "outputs": [],
   "source": [
    "print(samples)\n",
    "anndatl = list()\n",
    "sample_obs[1:10]\n",
    "#for sample in samples:\n",
    "    #sample=\"RNA_2_C_ra\"\n",
    "    #stpath = \"/misc/data/user/pun06483/projects/pr036_dd_10x/analysispy/RNAVelocity\"\n",
    "    #spath = os.path.join(stpath,sample,\"counts_unfiltered/adata.loom\")\n",
    "    #print(spath)\n",
    "    #ind = anndata.read_loom(spath)\n",
    "    #print(ind)\n",
    "    #pattern = sample_pddf.loc[sample_pddf['names'] == sample,'IDs'].item()\n",
    "    #print(pattern)\n",
    "    #ind.obs['barcode']=[''.join([pattern,'_',item,'-1']) for item in ind.obs['barcode']]\n",
    "    ##cellID_obs = sample_obs[sample_obs['x'].str.contains(pattern,regex=False)]\n",
    "    ##cellID_obs['x'] = cellID_obs['x'].replace(\"\".join([pattern,\"_\"]),\"\",regex=True)\n",
    "    ##cellID_obs['x'] = cellID_obs['x'].replace('-1',\"\",regex=True)                                          \n",
    "    #print(len(cellID_obs))\n",
    "    #outf = ind[np.isin(ind.obs.barcode,cellID_obs)]\n",
    "    #print(outf)\n",
    "    #anndatl.append(outf)\n",
    "\n"
   ]
  },
  {
   "cell_type": "code",
   "execution_count": null,
   "id": "1ff6d0e5",
   "metadata": {},
   "outputs": [],
   "source": [
    "annd=anndatl[0].concatenate(anndatl[1:])"
   ]
  },
  {
   "cell_type": "code",
   "execution_count": null,
   "id": "f78fc843",
   "metadata": {},
   "outputs": [],
   "source": [
    "annd.obs.barcode\n",
    "print(len(annd.obs.barcode))"
   ]
  },
  {
   "cell_type": "markdown",
   "id": "09b2f7a0",
   "metadata": {},
   "source": [
    "Now the velocity data is filtered based upon the Seurat object. We end up with only 1515 cells of 14780 in the seurat data set. Is this due to barcode correction errors between cellrange and kb tools?\n",
    "Now we ad umap coordinates\n"
   ]
  },
  {
   "cell_type": "code",
   "execution_count": null,
   "id": "f113e52d",
   "metadata": {},
   "outputs": [],
   "source": [
    "umap_cord[:2]"
   ]
  },
  {
   "cell_type": "code",
   "execution_count": null,
   "id": "65d1013b",
   "metadata": {},
   "outputs": [],
   "source": [
    "annd_index = pd.DataFrame(annd.obs.barcode)\n",
    "annd_index = annd_index.rename(columns={'barcode':'Cell ID'})\n",
    "annd_index[:2]"
   ]
  },
  {
   "cell_type": "code",
   "execution_count": null,
   "id": "cee52325",
   "metadata": {},
   "outputs": [],
   "source": [
    "umap_cord = umap_cord.rename(columns = {'Unnamed: 0':'Cell ID'})\n",
    "umap_cord[:2]"
   ]
  },
  {
   "cell_type": "code",
   "execution_count": null,
   "id": "8e652a35",
   "metadata": {},
   "outputs": [],
   "source": [
    "umap_ordered = annd_index.merge(umap_cord, on = \"Cell ID\")\n",
    "umap_ordered[:2]\n",
    "print(umap_ordered.max())\n",
    "print(umap_ordered.min())\n"
   ]
  },
  {
   "cell_type": "code",
   "execution_count": null,
   "id": "02585046",
   "metadata": {},
   "outputs": [],
   "source": [
    "now the order of the umap is correct, add it now without the cell ID to the annd"
   ]
  },
  {
   "cell_type": "code",
   "execution_count": null,
   "id": "b25bcbc5",
   "metadata": {},
   "outputs": [],
   "source": [
    "umap_ordered = umap_ordered.iloc[:,1:]\n",
    "print(umap_ordered.values)\n",
    "annd.obsm['X_umap'] = umap_ordered.values"
   ]
  },
  {
   "cell_type": "code",
   "execution_count": null,
   "id": "1a9f2222",
   "metadata": {},
   "outputs": [],
   "source": [
    "cell_clustersn = cell_clusters.join(umap_cord)\n",
    "cell_clustersn = cell_clustersn[[\"Cell ID\",\"cluster\",\"col\"]]\n",
    "cell_cluster_ordered = annd_index.merge(cell_clustersn, on = \"Cell ID\")\n",
    "cell_cluster_ordered[:2]\n",
    "colors_ord = cell_cluster_ordered.iloc[:,2]\n",
    "cluster_ord = cell_cluster_ordered.iloc[:,1]\n"
   ]
  },
  {
   "cell_type": "code",
   "execution_count": null,
   "id": "40ba34c1",
   "metadata": {},
   "outputs": [],
   "source": [
    "cell_cluster_ordered.astype(\"object\").dtypes\n",
    "cell_cluster_ordered.astype({'cluster': 'object'}).dtypes\n",
    "cell_cluster_ordered.dtypes"
   ]
  },
  {
   "cell_type": "code",
   "execution_count": null,
   "id": "ed7670fa",
   "metadata": {},
   "outputs": [],
   "source": [
    "annd.uns['Cluster_colors'] = colors_ord.values\n",
    "annd.uns['clusters'] = pd.Categorical(cluster_ord.values.astype(str))\n",
    "annd.uns['clusters']"
   ]
  },
  {
   "cell_type": "code",
   "execution_count": null,
   "id": "a040b391",
   "metadata": {},
   "outputs": [],
   "source": [
    "annd.obs['clusters']=pd.Categorical(cluster_ord.values.astype(str))"
   ]
  },
  {
   "cell_type": "code",
   "execution_count": null,
   "id": "248a4540",
   "metadata": {},
   "outputs": [],
   "source": []
  },
  {
   "cell_type": "markdown",
   "id": "a43fa9cd",
   "metadata": {},
   "source": [
    "Run RNA Verlocity\n"
   ]
  },
  {
   "cell_type": "code",
   "execution_count": null,
   "id": "885c1fbe",
   "metadata": {},
   "outputs": [],
   "source": [
    "annd"
   ]
  },
  {
   "cell_type": "code",
   "execution_count": null,
   "id": "c18cee63",
   "metadata": {},
   "outputs": [],
   "source": [
    "scv.pl.proportions(annd)"
   ]
  },
  {
   "cell_type": "code",
   "execution_count": null,
   "id": "15bf5436",
   "metadata": {},
   "outputs": [],
   "source": [
    "scv.pp.filter_and_normalize(annd)\n",
    "scv.pp.moments(annd)\n",
    "scv.tl.velocity(annd, mode = \"stochastic\",vkey=\"stochastic\")\n",
    "\n",
    "scv.tl.velocity_graph(annd,vkey=\"sto\")\n",
    "scv.pl.velocity_embedding(annd, basis = 'umap',\n",
    "                          save = os.path.join(stpath,\"ScRNAVelo.pdf\"))"
   ]
  },
  {
   "cell_type": "code",
   "execution_count": null,
   "id": "7d1d5d70",
   "metadata": {},
   "outputs": [],
   "source": [
    "annd.write(os.path.join(stpath,'anndata_colon_p36_scvelo.h5ad'), compression=\"gzip\")"
   ]
  },
  {
   "cell_type": "code",
   "execution_count": null,
   "id": "dcda9679",
   "metadata": {},
   "outputs": [],
   "source": [
    "annd.obs"
   ]
  },
  {
   "cell_type": "code",
   "execution_count": null,
   "id": "510928e2",
   "metadata": {},
   "outputs": [],
   "source": [
    "annd.uns['Cluster_colors']"
   ]
  },
  {
   "cell_type": "code",
   "execution_count": null,
   "id": "e4553692",
   "metadata": {},
   "outputs": [],
   "source": [
    "print(np.max(annd.obsm[\"X_umap\"],axis=0))\n",
    "print(np.min(annd.obsm[\"X_umap\"],axis=0))\n"
   ]
  },
  {
   "cell_type": "code",
   "execution_count": null,
   "id": "0f8611a2",
   "metadata": {},
   "outputs": [],
   "source": [
    "scv.pl.velocity_embedding(annd, basis = 'umap',\n",
    "                          scale = 4,arrow_length=2,xlim=(-6,6),ylim=(-6,6),\n",
    "                          show=True,\n",
    "                          save = os.path.join(stpath,\"ScRNAVelo.pdf\"))\n"
   ]
  },
  {
   "cell_type": "code",
   "execution_count": null,
   "id": "c9022cc9",
   "metadata": {},
   "outputs": [],
   "source": [
    "scv.pl.velocity_embedding"
   ]
  },
  {
   "cell_type": "code",
   "execution_count": null,
   "id": "015f7543",
   "metadata": {},
   "outputs": [],
   "source": [
    "#kwargs={\"xlim\":(-6,6),\"ylim\":(-6,6)}\n",
    "#print(kwargs)\n",
    "scv.pl.velocity_embedding(annd, basis = 'umap',legend_loc=\"right\",xlabel=\"UMAP1\",ylabel=\"UMAP2\",\n",
    "                          figsize=(7,7),color='clusters',colorbar=False,palette=annd.uns['Cluster_colors'],\n",
    "                          scale = 4,arrow_length=3,arrow_size=2,dpi=150,show=True,\n",
    "                          save = os.path.join(stpath,\"ScRNAVelo.pdf\"),xlim=[-6,6],ylim=[-6,6]\n",
    "                          )\n",
    "\n",
    "\n",
    "\n",
    "                          \n",
    "                          "
   ]
  },
  {
   "cell_type": "code",
   "execution_count": null,
   "id": "8602352a",
   "metadata": {},
   "outputs": [],
   "source": [
    "scv.set_figure_params('scvelo') \n",
    "kwargs = dict(color_map='gnuplot', title='',\n",
    "              vmin=-.1, colorbar=False, show=False, dpi=150)\n",
    "scv.pl.velocity_embedding_stream(annd, basis = 'umap',\n",
    "                          xlim=(-6,6),ylim=(-6,6),\n",
    "                          save = os.path.join(stpath,\"ScRNAVelo_stream.pdf\"),**kwargs)"
   ]
  },
  {
   "cell_type": "code",
   "execution_count": null,
   "id": "4052c74a",
   "metadata": {},
   "outputs": [],
   "source": []
  }
 ],
 "metadata": {
  "celltoolbar": "Tags",
  "kernelspec": {
   "display_name": "Python 3 (ipykernel)",
   "language": "python",
   "name": "python3"
  },
  "language_info": {
   "codemirror_mode": {
    "name": "ipython",
    "version": 3
   },
   "file_extension": ".py",
   "mimetype": "text/x-python",
   "name": "python",
   "nbconvert_exporter": "python",
   "pygments_lexer": "ipython3",
   "version": "3.9.6"
  }
 },
 "nbformat": 4,
 "nbformat_minor": 5
}
